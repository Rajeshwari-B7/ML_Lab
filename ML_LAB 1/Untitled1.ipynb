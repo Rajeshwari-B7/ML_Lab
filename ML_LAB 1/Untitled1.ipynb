{
 "cells": [
  {
   "cell_type": "code",
   "execution_count": 2,
   "id": "2a769c96",
   "metadata": {},
   "outputs": [],
   "source": [
    "import pandas as pd\n",
    "import numpy as np\n"
   ]
  },
  {
   "cell_type": "code",
   "execution_count": 21,
   "id": "7ef1bc46",
   "metadata": {},
   "outputs": [
    {
     "name": "stdout",
     "output_type": "stream",
     "text": [
      "     sky air temp humidity    wind water forecast enjoy sport\n",
      "0  sunny     warm   normal  strong  warm     same         yes\n",
      "1  sunny     warm     high  strong  warm     same         yes\n",
      "2  rainy     cold     high  strong  warm   change          no\n",
      "3  sunny     warm     high  strong  cool   change         yes \n",
      "\n",
      "The attributes are :\n",
      " [['sunny' 'warm' 'normal' 'strong' 'warm' 'same']\n",
      " ['sunny' 'warm' 'high' 'strong' 'warm' 'same']\n",
      " ['rainy' 'cold' 'high' 'strong' 'warm' 'change']\n",
      " ['sunny' 'warm' 'high' 'strong' 'cool' 'change']]\n",
      "\n",
      "The target is:\n",
      " ['yes' 'yes' 'no' 'yes']\n",
      "\n",
      "The final hypothesis is :\n",
      " ['sunny' 'warm' '?' 'strong' '?' '?']\n"
     ]
    }
   ],
   "source": [
    "data=pd.read_csv('Downloads\\data.csv')\n",
    "print(data,\"\\n\")\n",
    "\n",
    "d=np.array(data)[:,:-1]\n",
    "print(\"The attributes are :\\n\",d)\n",
    "\n",
    "target=np.array(data)[:,-1]\n",
    "print(\"\\nThe target is:\\n\",target)\n",
    "\n",
    "def train(c,t):\n",
    "    for i,val in enumerate(t):\n",
    "        if val==\"yes\":\n",
    "            specific_hypothesis=c[i].copy()\n",
    "            break\n",
    "    for i,val in enumerate(c):\n",
    "                if t[i]==\"yes\":\n",
    "                    for x in range(len(specific_hypothesis)):\n",
    "                        if val[x]!=specific_hypothesis[x]:\n",
    "                            specific_hypothesis[x]='?'\n",
    "                        else:\n",
    "                            pass\n",
    "    return specific_hypothesis\n",
    "print(\"\\nThe final hypothesis is :\\n\",train(d,target))"
   ]
  },
  {
   "cell_type": "code",
   "execution_count": null,
   "id": "c0fd4934",
   "metadata": {},
   "outputs": [],
   "source": []
  },
  {
   "cell_type": "code",
   "execution_count": null,
   "id": "68997255",
   "metadata": {},
   "outputs": [],
   "source": []
  },
  {
   "cell_type": "code",
   "execution_count": null,
   "id": "f643d583",
   "metadata": {},
   "outputs": [],
   "source": []
  },
  {
   "cell_type": "code",
   "execution_count": null,
   "id": "a9acb190",
   "metadata": {},
   "outputs": [],
   "source": []
  }
 ],
 "metadata": {
  "kernelspec": {
   "display_name": "Python 3 (ipykernel)",
   "language": "python",
   "name": "python3"
  },
  "language_info": {
   "codemirror_mode": {
    "name": "ipython",
    "version": 3
   },
   "file_extension": ".py",
   "mimetype": "text/x-python",
   "name": "python",
   "nbconvert_exporter": "python",
   "pygments_lexer": "ipython3",
   "version": "3.9.7"
  }
 },
 "nbformat": 4,
 "nbformat_minor": 5
}
